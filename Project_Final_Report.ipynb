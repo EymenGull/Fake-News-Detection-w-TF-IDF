{
 "cells": [
  {
   "cell_type": "markdown",
   "id": "d94a40cb",
   "metadata": {
    "pycharm": {
     "name": "#%% md\n"
    }
   },
   "source": [
    "# Fake News Detection"
   ]
  },
  {
   "cell_type": "markdown",
   "id": "f724ae7d",
   "metadata": {
    "pycharm": {
     "name": "#%% md\n"
    }
   },
   "source": [
    "## Team Members\n",
    "\n",
    "- Muhammed Talha KAYA, kayamu16@itu.edu.tr, 090160339\n",
    "- Eymen Gül, guley17@itu.edu.tr, 090190746"
   ]
  },
  {
   "cell_type": "markdown",
   "id": "39dd3e89",
   "metadata": {
    "pycharm": {
     "name": "#%% md\n"
    }
   },
   "source": [
    "## Description of the Problem\n",
    
    "\n",
    "This project aims to address the challenges faced during the recent earthquake in Turkey and the impact of the new social media law, by developing a machine learning-based model capable of accurately detecting and classifying fake news on social media during natural disasters. By focusing on real-time analysis, our model will empower users and authorities to make informed decisions based on verified information, improving the overall disaster response process and enabling a more responsible approach to sharing information in light of the new regulatory landscape."
   ]
  },
  {
   "cell_type": "markdown",
   "id": "72ac5cfa",
   "metadata": {
    "pycharm": {
     "name": "#%% md\n"
    }
   },
   "source": [
    "### Key Objectives\n",
    "\n",
    "1. Investigate state-of-the-art techniques in fake news detection and adapt them for real-time analysis during natural disasters and in response to recent social media regulations.\n",
    "2. Collect and preprocess a dataset of genuine and fake news items related to natural disasters, with a focus on earthquakes, as well as news items influenced by the social media law.\n",
    "3. Develop a robust and efficient machine learning model for detecting fake news and assessing the credibility of information shared on social media platforms, taking into account the impact of recent regulatory changes.\n",
    "4. Evaluate the performance of the model using appropriate metrics, such as accuracy, precision, recall, and F1-score.\n",
    "5. Deploy the model as a user-friendly tool that can be easily integrated into existing social media platforms or utilized as a standalone application, while respecting the legal requirements of the social media law.\n",
    "\n",
    "By implementing an effective news verification model, our project aims to enhance the credibility of information shared on social media during natural disasters and in the context of the new social media law, leading to better decision-making, optimized resource allocation, and ultimately, a safer and more informed environment for all."
   ]
  },
  {
   "cell_type": "markdown",
   "id": "055159eb",
   "metadata": {
    "pycharm": {
     "name": "#%% md\n"
    }
   },
   "source": [
    "## Methodologies\n",
    "\n",
    " Our methodology can be broken down into the following key stages:\n",
    "\n",
    "1. *Literature Review*: We will conduct a comprehensive review of existing research papers, articles, and state-of-the-art techniques in the field of fake news detection. This will help us understand the current landscape, identify relevant approaches, and determine areas for potential improvements or novel contributions.\n",
    "\n",
    "\n",
    "2. *Data Collection*: We will gather a dataset containing genuine and fake news items, ensuring that it includes examples from various subjects, such as politics, sports, and world news. The dataset should have information on the news title, text, subject, date, and a binary label indicating the news item's truthfulness.\n",
    "\n",
    "\n",
    "3. *Data Preprocessing*: In this stage, we will clean and preprocess the dataset. Initially, we will obtain the data from separate CSV files for fake and true news items. We will then add a 'label' column to each of these files, assigning a value of 1 for true news and 0 for fake news. Afterward, we will merge the true and fake datasets using the concat method to create a single, unified dataset. Next, we will remove any irrelevant columns and perform a check for missing values in the remaining columns. We will handle any missing values as necessary to ensure the dataset's quality. Furthermore, we will clean the text data by removing any special characters or other unwanted elements.To ensure that our data is well-shuffled, we will randomize the order of the entries and reset the indices. Finally, we will check the column names and perform additional preprocessing tasks, such as removing duplicate records and ensuring data consistency. This will result in a high-quality dataset that can be effectively used for model development.\n",
    "\n",
    "\n",
    "4. *Feature Engineering*: We will extract and generate relevant features from the raw data that can be used as input for our machine learning model. In particular, the text will be converted into vectors using the TF-IDF method. This transformation allows us to represent the importance of words in each news item relative to the entire dataset. We may also explore additional techniques, such as sentiment analysis and keyword extraction. We will perform feature selection and dimensionality reduction to retain only the most informative features for our model.\n",
    "\n",
    "\n",
    "5. *Model Selection and Development*: We will explore various machine learning algorithms, including Logistic Regression, Decision Tree Classification, Gradient Boosting Classifier, and Random Forest Classifier, to determine the most suitable model for our problem. We will then develop and implement the chosen model, fine-tuning its hyperparameters as necessary.\n",
    "\n",
    "\n",
    "6. *Model Training, Evaluation, and Validation*: We will train the selected model on our preprocessed dataset and evaluate its performance using appropriate metrics, such as accuracy, precision, recall, and F1-score. We will iteratively refine the model based on these evaluation results and validate its performance on unseen data.\n",
    "\n",
    "\n",
    "7. *Deployment and Integration*: Upon achieving satisfactory results, we will deploy the best-performing model to a production environment and integrate it with a web service or application for real-time fake news detection.\n",
    "\n",
    "\n",
    "8. *Documentation and Presentation*: Throughout the project, we will document our methodology, results, and lessons learned. We will also prepare a presentation to communicate our findings and the impact of our work to relevant stakeholders and the wider community.\n",
    "\n",
    "\n",
    "By following this methodology, we aim to develop a robust and effective fake news detection model that can contribute to a safer and more informed social media environment during natural disasters and in light of the new social media law."
   ]
  },
  {
   "cell_type": "markdown",
   "id": "f06056e1",
   "metadata": {
    "pycharm": {
     "name": "#%% md\n"
    }
   },
   "source": [
    "## Data Collection and Description"
   ]
  },
  {
   "cell_type": "markdown",
   "id": "fa6c7ccf",
   "metadata": {
    "pycharm": {
     "name": "#%% md\n"
    }
   },
   "source": [
    "#### Try to classify the incoming news data as true news or fake news.\n",
    "\n",
    "##### Source of dataset : https://www.kaggle.com/datasets/clmentbisaillon/fake-and-real-news-dataset?select=True.csv\n",
    "\n",
    "##### 2 separate datasets named True.csv and False.csv. There are 4 columns with the same name in both datasets.  Combine these two datasets by adding a new 'label' column to obtain the dataset we want to use. The columns of this dataset have obtained are as follows:"
   ]
  },
  {
   "cell_type": "markdown",
   "id": "ce157791",
   "metadata": {
    "pycharm": {
     "name": "#%% md\n"
    }
   },
   "source": [
    "- title : The title of the article\n",
    "\n",
    "- text : The text of the article\n",
    "\n",
    "- subject : The subject of the article\n",
    "\n",
    "- date : The date that this article was posted at\n",
    "\n",
    "- label : 1 if it's true news, 0 if it's fake news\n"
   ]
  },
  {
   "cell_type": "markdown",
   "id": "954cf03d",
   "metadata": {
    "pycharm": {
     "name": "#%% md\n"
    }
   },
   "source": [
    "## Data Preprocessing"
   ]
  },
  {
   "cell_type": "markdown",
   "id": "a2109363",
   "metadata": {
    "pycharm": {
     "name": "#%% md\n"
    }
   },
   "source": [
    "- Import data with true and fake news."
   ]
  },
  {
   "cell_type": "code",
   "execution_count": 108,
   "id": "bfe3a899",
   "metadata": {
    "pycharm": {
     "name": "#%%\n"
    }
   },
   "outputs": [],
   "source": [
    "import pandas as pd\n",
    "import re\n",
    "import string\n",
    "from sklearn.model_selection import train_test_split\n",
    "\n",
    "true_df = pd.read_csv('datasets/True.csv')\n",
    "fake_df = pd.read_csv('datasets/Fake.csv')\n",
    "true_df.index+=1\n",
    "fake_df.index+=1"
   ]
  },
  {
   "cell_type": "markdown",
   "id": "de65342c",
   "metadata": {
    "pycharm": {
     "name": "#%% md\n"
    }
   },
   "source": [
    "- Look at true and fake dataframe"
   ]
  },
  {
   "cell_type": "code",
   "execution_count": 109,
   "id": "a3144ada",
   "metadata": {
    "pycharm": {
     "name": "#%%\n"
    }
   },
   "outputs": [
    {
     "data": {
      "text/html": [
       "<div>\n",
       "<style scoped>\n",
       "    .dataframe tbody tr th:only-of-type {\n",
       "        vertical-align: middle;\n",
       "    }\n",
       "\n",
       "    .dataframe tbody tr th {\n",
       "        vertical-align: top;\n",
       "    }\n",
       "\n",
       "    .dataframe thead th {\n",
       "        text-align: right;\n",
       "    }\n",
       "</style>\n",
       "<table border=\"1\" class=\"dataframe\">\n",
       "  <thead>\n",
       "    <tr style=\"text-align: right;\">\n",
       "      <th></th>\n",
       "      <th>title</th>\n",
       "      <th>text</th>\n",
       "      <th>subject</th>\n",
       "      <th>date</th>\n",
       "    </tr>\n",
       "  </thead>\n",
       "  <tbody>\n",
       "    <tr>\n",
       "      <th>1</th>\n",
       "      <td>As U.S. budget fight looms, Republicans flip t...</td>\n",
       "      <td>WASHINGTON (Reuters) - The head of a conservat...</td>\n",
       "      <td>politicsNews</td>\n",
       "      <td>December 31, 2017</td>\n",
       "    </tr>\n",
       "    <tr>\n",
       "      <th>2</th>\n",
       "      <td>U.S. military to accept transgender recruits o...</td>\n",
       "      <td>WASHINGTON (Reuters) - Transgender people will...</td>\n",
       "      <td>politicsNews</td>\n",
       "      <td>December 29, 2017</td>\n",
       "    </tr>\n",
       "    <tr>\n",
       "      <th>3</th>\n",
       "      <td>Senior U.S. Republican senator: 'Let Mr. Muell...</td>\n",
       "      <td>WASHINGTON (Reuters) - The special counsel inv...</td>\n",
       "      <td>politicsNews</td>\n",
       "      <td>December 31, 2017</td>\n",
       "    </tr>\n",
       "    <tr>\n",
       "      <th>4</th>\n",
       "      <td>FBI Russia probe helped by Australian diplomat...</td>\n",
       "      <td>WASHINGTON (Reuters) - Trump campaign adviser ...</td>\n",
       "      <td>politicsNews</td>\n",
       "      <td>December 30, 2017</td>\n",
       "    </tr>\n",
       "    <tr>\n",
       "      <th>5</th>\n",
       "      <td>Trump wants Postal Service to charge 'much mor...</td>\n",
       "      <td>SEATTLE/WASHINGTON (Reuters) - President Donal...</td>\n",
       "      <td>politicsNews</td>\n",
       "      <td>December 29, 2017</td>\n",
       "    </tr>\n",
       "    <tr>\n",
       "      <th>...</th>\n",
       "      <td>...</td>\n",
       "      <td>...</td>\n",
       "      <td>...</td>\n",
       "      <td>...</td>\n",
       "    </tr>\n",
       "    <tr>\n",
       "      <th>21413</th>\n",
       "      <td>'Fully committed' NATO backs new U.S. approach...</td>\n",
       "      <td>BRUSSELS (Reuters) - NATO allies on Tuesday we...</td>\n",
       "      <td>worldnews</td>\n",
       "      <td>August 22, 2017</td>\n",
       "    </tr>\n",
       "    <tr>\n",
       "      <th>21414</th>\n",
       "      <td>LexisNexis withdrew two products from Chinese ...</td>\n",
       "      <td>LONDON (Reuters) - LexisNexis, a provider of l...</td>\n",
       "      <td>worldnews</td>\n",
       "      <td>August 22, 2017</td>\n",
       "    </tr>\n",
       "    <tr>\n",
       "      <th>21415</th>\n",
       "      <td>Minsk cultural hub becomes haven from authorities</td>\n",
       "      <td>MINSK (Reuters) - In the shadow of disused Sov...</td>\n",
       "      <td>worldnews</td>\n",
       "      <td>August 22, 2017</td>\n",
       "    </tr>\n",
       "    <tr>\n",
       "      <th>21416</th>\n",
       "      <td>Vatican upbeat on possibility of Pope Francis ...</td>\n",
       "      <td>MOSCOW (Reuters) - Vatican Secretary of State ...</td>\n",
       "      <td>worldnews</td>\n",
       "      <td>August 22, 2017</td>\n",
       "    </tr>\n",
       "    <tr>\n",
       "      <th>21417</th>\n",
       "      <td>Indonesia to buy $1.14 billion worth of Russia...</td>\n",
       "      <td>JAKARTA (Reuters) - Indonesia will buy 11 Sukh...</td>\n",
       "      <td>worldnews</td>\n",
       "      <td>August 22, 2017</td>\n",
       "    </tr>\n",
       "  </tbody>\n",
       "</table>\n",
       "<p>21417 rows × 4 columns</p>\n",
       "</div>"
      ],
      "text/plain": [
       "                                                   title  \\\n",
       "1      As U.S. budget fight looms, Republicans flip t...   \n",
       "2      U.S. military to accept transgender recruits o...   \n",
       "3      Senior U.S. Republican senator: 'Let Mr. Muell...   \n",
       "4      FBI Russia probe helped by Australian diplomat...   \n",
       "5      Trump wants Postal Service to charge 'much mor...   \n",
       "...                                                  ...   \n",
       "21413  'Fully committed' NATO backs new U.S. approach...   \n",
       "21414  LexisNexis withdrew two products from Chinese ...   \n",
       "21415  Minsk cultural hub becomes haven from authorities   \n",
       "21416  Vatican upbeat on possibility of Pope Francis ...   \n",
       "21417  Indonesia to buy $1.14 billion worth of Russia...   \n",
       "\n",
       "                                                    text       subject  \\\n",
       "1      WASHINGTON (Reuters) - The head of a conservat...  politicsNews   \n",
       "2      WASHINGTON (Reuters) - Transgender people will...  politicsNews   \n",
       "3      WASHINGTON (Reuters) - The special counsel inv...  politicsNews   \n",
       "4      WASHINGTON (Reuters) - Trump campaign adviser ...  politicsNews   \n",
       "5      SEATTLE/WASHINGTON (Reuters) - President Donal...  politicsNews   \n",
       "...                                                  ...           ...   \n",
       "21413  BRUSSELS (Reuters) - NATO allies on Tuesday we...     worldnews   \n",
       "21414  LONDON (Reuters) - LexisNexis, a provider of l...     worldnews   \n",
       "21415  MINSK (Reuters) - In the shadow of disused Sov...     worldnews   \n",
       "21416  MOSCOW (Reuters) - Vatican Secretary of State ...     worldnews   \n",
       "21417  JAKARTA (Reuters) - Indonesia will buy 11 Sukh...     worldnews   \n",
       "\n",
       "                     date  \n",
       "1      December 31, 2017   \n",
       "2      December 29, 2017   \n",
       "3      December 31, 2017   \n",
       "4      December 30, 2017   \n",
       "5      December 29, 2017   \n",
       "...                   ...  \n",
       "21413    August 22, 2017   \n",
       "21414    August 22, 2017   \n",
       "21415    August 22, 2017   \n",
       "21416    August 22, 2017   \n",
       "21417    August 22, 2017   \n",
       "\n",
       "[21417 rows x 4 columns]"
      ]
     },
     "execution_count": 109,
     "metadata": {},
     "output_type": "execute_result"
    }
   ],
   "source": [
    "true_df"
   ]
  },
  {
   "cell_type": "code",
   "execution_count": 110,
   "id": "c90852ea",
   "metadata": {
    "pycharm": {
     "name": "#%%\n"
    }
   },
   "outputs": [
    {
     "data": {
      "text/html": [
       "<div>\n",
       "<style scoped>\n",
       "    .dataframe tbody tr th:only-of-type {\n",
       "        vertical-align: middle;\n",
       "    }\n",
       "\n",
       "    .dataframe tbody tr th {\n",
       "        vertical-align: top;\n",
       "    }\n",
       "\n",
       "    .dataframe thead th {\n",
       "        text-align: right;\n",
       "    }\n",
       "</style>\n",
       "<table border=\"1\" class=\"dataframe\">\n",
       "  <thead>\n",
       "    <tr style=\"text-align: right;\">\n",
       "      <th></th>\n",
       "      <th>title</th>\n",
       "      <th>text</th>\n",
       "      <th>subject</th>\n",
       "      <th>date</th>\n",
       "    </tr>\n",
       "  </thead>\n",
       "  <tbody>\n",
       "    <tr>\n",
       "      <th>1</th>\n",
       "      <td>Donald Trump Sends Out Embarrassing New Year’...</td>\n",
       "      <td>Donald Trump just couldn t wish all Americans ...</td>\n",
       "      <td>News</td>\n",
       "      <td>December 31, 2017</td>\n",
       "    </tr>\n",
       "    <tr>\n",
       "      <th>2</th>\n",
       "      <td>Drunk Bragging Trump Staffer Started Russian ...</td>\n",
       "      <td>House Intelligence Committee Chairman Devin Nu...</td>\n",
       "      <td>News</td>\n",
       "      <td>December 31, 2017</td>\n",
       "    </tr>\n",
       "    <tr>\n",
       "      <th>3</th>\n",
       "      <td>Sheriff David Clarke Becomes An Internet Joke...</td>\n",
       "      <td>On Friday, it was revealed that former Milwauk...</td>\n",
       "      <td>News</td>\n",
       "      <td>December 30, 2017</td>\n",
       "    </tr>\n",
       "    <tr>\n",
       "      <th>4</th>\n",
       "      <td>Trump Is So Obsessed He Even Has Obama’s Name...</td>\n",
       "      <td>On Christmas day, Donald Trump announced that ...</td>\n",
       "      <td>News</td>\n",
       "      <td>December 29, 2017</td>\n",
       "    </tr>\n",
       "    <tr>\n",
       "      <th>5</th>\n",
       "      <td>Pope Francis Just Called Out Donald Trump Dur...</td>\n",
       "      <td>Pope Francis used his annual Christmas Day mes...</td>\n",
       "      <td>News</td>\n",
       "      <td>December 25, 2017</td>\n",
       "    </tr>\n",
       "    <tr>\n",
       "      <th>...</th>\n",
       "      <td>...</td>\n",
       "      <td>...</td>\n",
       "      <td>...</td>\n",
       "      <td>...</td>\n",
       "    </tr>\n",
       "    <tr>\n",
       "      <th>23477</th>\n",
       "      <td>McPain: John McCain Furious That Iran Treated ...</td>\n",
       "      <td>21st Century Wire says As 21WIRE reported earl...</td>\n",
       "      <td>Middle-east</td>\n",
       "      <td>January 16, 2016</td>\n",
       "    </tr>\n",
       "    <tr>\n",
       "      <th>23478</th>\n",
       "      <td>JUSTICE? Yahoo Settles E-mail Privacy Class-ac...</td>\n",
       "      <td>21st Century Wire says It s a familiar theme. ...</td>\n",
       "      <td>Middle-east</td>\n",
       "      <td>January 16, 2016</td>\n",
       "    </tr>\n",
       "    <tr>\n",
       "      <th>23479</th>\n",
       "      <td>Sunnistan: US and Allied ‘Safe Zone’ Plan to T...</td>\n",
       "      <td>Patrick Henningsen  21st Century WireRemember ...</td>\n",
       "      <td>Middle-east</td>\n",
       "      <td>January 15, 2016</td>\n",
       "    </tr>\n",
       "    <tr>\n",
       "      <th>23480</th>\n",
       "      <td>How to Blow $700 Million: Al Jazeera America F...</td>\n",
       "      <td>21st Century Wire says Al Jazeera America will...</td>\n",
       "      <td>Middle-east</td>\n",
       "      <td>January 14, 2016</td>\n",
       "    </tr>\n",
       "    <tr>\n",
       "      <th>23481</th>\n",
       "      <td>10 U.S. Navy Sailors Held by Iranian Military ...</td>\n",
       "      <td>21st Century Wire says As 21WIRE predicted in ...</td>\n",
       "      <td>Middle-east</td>\n",
       "      <td>January 12, 2016</td>\n",
       "    </tr>\n",
       "  </tbody>\n",
       "</table>\n",
       "<p>23481 rows × 4 columns</p>\n",
       "</div>"
      ],
      "text/plain": [
       "                                                   title  \\\n",
       "1       Donald Trump Sends Out Embarrassing New Year’...   \n",
       "2       Drunk Bragging Trump Staffer Started Russian ...   \n",
       "3       Sheriff David Clarke Becomes An Internet Joke...   \n",
       "4       Trump Is So Obsessed He Even Has Obama’s Name...   \n",
       "5       Pope Francis Just Called Out Donald Trump Dur...   \n",
       "...                                                  ...   \n",
       "23477  McPain: John McCain Furious That Iran Treated ...   \n",
       "23478  JUSTICE? Yahoo Settles E-mail Privacy Class-ac...   \n",
       "23479  Sunnistan: US and Allied ‘Safe Zone’ Plan to T...   \n",
       "23480  How to Blow $700 Million: Al Jazeera America F...   \n",
       "23481  10 U.S. Navy Sailors Held by Iranian Military ...   \n",
       "\n",
       "                                                    text      subject  \\\n",
       "1      Donald Trump just couldn t wish all Americans ...         News   \n",
       "2      House Intelligence Committee Chairman Devin Nu...         News   \n",
       "3      On Friday, it was revealed that former Milwauk...         News   \n",
       "4      On Christmas day, Donald Trump announced that ...         News   \n",
       "5      Pope Francis used his annual Christmas Day mes...         News   \n",
       "...                                                  ...          ...   \n",
       "23477  21st Century Wire says As 21WIRE reported earl...  Middle-east   \n",
       "23478  21st Century Wire says It s a familiar theme. ...  Middle-east   \n",
       "23479  Patrick Henningsen  21st Century WireRemember ...  Middle-east   \n",
       "23480  21st Century Wire says Al Jazeera America will...  Middle-east   \n",
       "23481  21st Century Wire says As 21WIRE predicted in ...  Middle-east   \n",
       "\n",
       "                    date  \n",
       "1      December 31, 2017  \n",
       "2      December 31, 2017  \n",
       "3      December 30, 2017  \n",
       "4      December 29, 2017  \n",
       "5      December 25, 2017  \n",
       "...                  ...  \n",
       "23477   January 16, 2016  \n",
       "23478   January 16, 2016  \n",
       "23479   January 15, 2016  \n",
       "23480   January 14, 2016  \n",
       "23481   January 12, 2016  \n",
       "\n",
       "[23481 rows x 4 columns]"
      ]
     },
     "execution_count": 110,
     "metadata": {},
     "output_type": "execute_result"
    }
   ],
   "source": [
    "fake_df"
   ]
  },
  {
   "cell_type": "markdown",
   "id": "0b6a7769",
   "metadata": {
    "pycharm": {
     "name": "#%% md\n"
    }
   },
   "source": [
    "- Added a new column named 'label' to both dataframes."
   ]
  },
  {
   "cell_type": "code",
   "execution_count": 111,
   "id": "6cade2b4",
   "metadata": {
    "pycharm": {
     "name": "#%%\n"
    }
   },
   "outputs": [],
   "source": [
    "fake_df[\"label\"] = 0\n",
    "true_df[\"label\"] = 1"
   ]
  },
  {
   "cell_type": "markdown",
   "id": "9a20f691",
   "metadata": {
    "pycharm": {
     "name": "#%% md\n"
    }
   },
   "source": [
    "### In order to train the models and test these models manually in practice, 5 pieces of true and fake news are extracted."
   ]
  },
  {
   "cell_type": "code",
   "execution_count": 112,
   "id": "a0b0dd83",
   "metadata": {
    "pycharm": {
     "name": "#%%\n"
    }
   },
   "outputs": [],
   "source": [
    "fake_df_application_testing = fake_df.tail(5)\n",
    "for i in range(23480,23475,-1):\n",
    "    fake_df.drop([i], axis = 0, inplace = True)\n",
    "    \n",
    "    \n",
    "true_df_application_testing = true_df.tail(5)\n",
    "for i in range(21416,21411,-1):\n",
    "    true_df.drop([i], axis = 0, inplace = True)"
   ]
  },
  {
   "cell_type": "code",
   "execution_count": 113,
   "id": "4639f7f0",
   "metadata": {
    "pycharm": {
     "name": "#%%\n"
    }
   },
   "outputs": [],
   "source": [
    "fake_df_application_testing = fake_df_application_testing.drop([\"title\", \"subject\",\"date\"], axis = 1)\n",
    "true_df_application_testing = true_df_application_testing.drop([\"title\", \"subject\",\"date\"], axis = 1)"
   ]
  },
  {
   "cell_type": "code",
   "execution_count": 114,
   "id": "527de88a",
   "metadata": {
    "pycharm": {
     "name": "#%%\n"
    }
   },
   "outputs": [
    {
     "data": {
      "text/plain": [
       "(23476, 5)"
      ]
     },
     "execution_count": 114,
     "metadata": {},
     "output_type": "execute_result"
    }
   ],
   "source": [
    "fake_df.shape"
   ]
  },
  {
   "cell_type": "code",
   "execution_count": 115,
   "id": "088b1d71",
   "metadata": {
    "pycharm": {
     "name": "#%%\n"
    }
   },
   "outputs": [
    {
     "data": {
      "text/plain": [
       "(21412, 5)"
      ]
     },
     "execution_count": 115,
     "metadata": {},
     "output_type": "execute_result"
    }
   ],
   "source": [
    "true_df.shape"
   ]
  },
  {
   "cell_type": "code",
   "execution_count": 116,
   "id": "95772b67",
   "metadata": {
    "pycharm": {
     "name": "#%%\n"
    }
   },
   "outputs": [],
   "source": [
    "df_application_testing = pd.concat([fake_df_application_testing,true_df_application_testing], axis = 0)\n",
    "df_application_testing.to_csv(\"FakeNewsSite/application_testing.csv\")"
   ]
  },
  {
   "cell_type": "markdown",
   "id": "9e7c0e66",
   "metadata": {
    "pycharm": {
     "name": "#%% md\n"
    }
   },
   "source": [
    "- Merged this 2 dataframes."
   ]
  },
  {
   "cell_type": "code",
   "execution_count": 117,
   "id": "97dfd749",
   "metadata": {
    "pycharm": {
     "name": "#%%\n"
    }
   },
   "outputs": [
    {
     "data": {
      "text/html": [
       "<div>\n",
       "<style scoped>\n",
       "    .dataframe tbody tr th:only-of-type {\n",
       "        vertical-align: middle;\n",
       "    }\n",
       "\n",
       "    .dataframe tbody tr th {\n",
       "        vertical-align: top;\n",
       "    }\n",
       "\n",
       "    .dataframe thead th {\n",
       "        text-align: right;\n",
       "    }\n",
       "</style>\n",
       "<table border=\"1\" class=\"dataframe\">\n",
       "  <thead>\n",
       "    <tr style=\"text-align: right;\">\n",
       "      <th></th>\n",
       "      <th>title</th>\n",
       "      <th>text</th>\n",
       "      <th>subject</th>\n",
       "      <th>date</th>\n",
       "      <th>label</th>\n",
       "    </tr>\n",
       "  </thead>\n",
       "  <tbody>\n",
       "    <tr>\n",
       "      <th>1</th>\n",
       "      <td>Donald Trump Sends Out Embarrassing New Year’...</td>\n",
       "      <td>Donald Trump just couldn t wish all Americans ...</td>\n",
       "      <td>News</td>\n",
       "      <td>December 31, 2017</td>\n",
       "      <td>0</td>\n",
       "    </tr>\n",
       "    <tr>\n",
       "      <th>2</th>\n",
       "      <td>Drunk Bragging Trump Staffer Started Russian ...</td>\n",
       "      <td>House Intelligence Committee Chairman Devin Nu...</td>\n",
       "      <td>News</td>\n",
       "      <td>December 31, 2017</td>\n",
       "      <td>0</td>\n",
       "    </tr>\n",
       "    <tr>\n",
       "      <th>3</th>\n",
       "      <td>Sheriff David Clarke Becomes An Internet Joke...</td>\n",
       "      <td>On Friday, it was revealed that former Milwauk...</td>\n",
       "      <td>News</td>\n",
       "      <td>December 30, 2017</td>\n",
       "      <td>0</td>\n",
       "    </tr>\n",
       "    <tr>\n",
       "      <th>4</th>\n",
       "      <td>Trump Is So Obsessed He Even Has Obama’s Name...</td>\n",
       "      <td>On Christmas day, Donald Trump announced that ...</td>\n",
       "      <td>News</td>\n",
       "      <td>December 29, 2017</td>\n",
       "      <td>0</td>\n",
       "    </tr>\n",
       "    <tr>\n",
       "      <th>5</th>\n",
       "      <td>Pope Francis Just Called Out Donald Trump Dur...</td>\n",
       "      <td>Pope Francis used his annual Christmas Day mes...</td>\n",
       "      <td>News</td>\n",
       "      <td>December 25, 2017</td>\n",
       "      <td>0</td>\n",
       "    </tr>\n",
       "    <tr>\n",
       "      <th>...</th>\n",
       "      <td>...</td>\n",
       "      <td>...</td>\n",
       "      <td>...</td>\n",
       "      <td>...</td>\n",
       "      <td>...</td>\n",
       "    </tr>\n",
       "    <tr>\n",
       "      <th>21408</th>\n",
       "      <td>Mata Pires, owner of embattled Brazil builder ...</td>\n",
       "      <td>SAO PAULO (Reuters) - Cesar Mata Pires, the ow...</td>\n",
       "      <td>worldnews</td>\n",
       "      <td>August 22, 2017</td>\n",
       "      <td>1</td>\n",
       "    </tr>\n",
       "    <tr>\n",
       "      <th>21409</th>\n",
       "      <td>U.S., North Korea clash at U.N. forum over nuc...</td>\n",
       "      <td>GENEVA (Reuters) - North Korea and the United ...</td>\n",
       "      <td>worldnews</td>\n",
       "      <td>August 22, 2017</td>\n",
       "      <td>1</td>\n",
       "    </tr>\n",
       "    <tr>\n",
       "      <th>21410</th>\n",
       "      <td>U.S., North Korea clash at U.N. arms forum on ...</td>\n",
       "      <td>GENEVA (Reuters) - North Korea and the United ...</td>\n",
       "      <td>worldnews</td>\n",
       "      <td>August 22, 2017</td>\n",
       "      <td>1</td>\n",
       "    </tr>\n",
       "    <tr>\n",
       "      <th>21411</th>\n",
       "      <td>Headless torso could belong to submarine journ...</td>\n",
       "      <td>COPENHAGEN (Reuters) - Danish police said on T...</td>\n",
       "      <td>worldnews</td>\n",
       "      <td>August 22, 2017</td>\n",
       "      <td>1</td>\n",
       "    </tr>\n",
       "    <tr>\n",
       "      <th>21417</th>\n",
       "      <td>Indonesia to buy $1.14 billion worth of Russia...</td>\n",
       "      <td>JAKARTA (Reuters) - Indonesia will buy 11 Sukh...</td>\n",
       "      <td>worldnews</td>\n",
       "      <td>August 22, 2017</td>\n",
       "      <td>1</td>\n",
       "    </tr>\n",
       "  </tbody>\n",
       "</table>\n",
       "<p>44888 rows × 5 columns</p>\n",
       "</div>"
      ],
      "text/plain": [
       "                                                   title  \\\n",
       "1       Donald Trump Sends Out Embarrassing New Year’...   \n",
       "2       Drunk Bragging Trump Staffer Started Russian ...   \n",
       "3       Sheriff David Clarke Becomes An Internet Joke...   \n",
       "4       Trump Is So Obsessed He Even Has Obama’s Name...   \n",
       "5       Pope Francis Just Called Out Donald Trump Dur...   \n",
       "...                                                  ...   \n",
       "21408  Mata Pires, owner of embattled Brazil builder ...   \n",
       "21409  U.S., North Korea clash at U.N. forum over nuc...   \n",
       "21410  U.S., North Korea clash at U.N. arms forum on ...   \n",
       "21411  Headless torso could belong to submarine journ...   \n",
       "21417  Indonesia to buy $1.14 billion worth of Russia...   \n",
       "\n",
       "                                                    text    subject  \\\n",
       "1      Donald Trump just couldn t wish all Americans ...       News   \n",
       "2      House Intelligence Committee Chairman Devin Nu...       News   \n",
       "3      On Friday, it was revealed that former Milwauk...       News   \n",
       "4      On Christmas day, Donald Trump announced that ...       News   \n",
       "5      Pope Francis used his annual Christmas Day mes...       News   \n",
       "...                                                  ...        ...   \n",
       "21408  SAO PAULO (Reuters) - Cesar Mata Pires, the ow...  worldnews   \n",
       "21409  GENEVA (Reuters) - North Korea and the United ...  worldnews   \n",
       "21410  GENEVA (Reuters) - North Korea and the United ...  worldnews   \n",
       "21411  COPENHAGEN (Reuters) - Danish police said on T...  worldnews   \n",
       "21417  JAKARTA (Reuters) - Indonesia will buy 11 Sukh...  worldnews   \n",
       "\n",
       "                    date  label  \n",
       "1      December 31, 2017      0  \n",
       "2      December 31, 2017      0  \n",
       "3      December 30, 2017      0  \n",
       "4      December 29, 2017      0  \n",
       "5      December 25, 2017      0  \n",
       "...                  ...    ...  \n",
       "21408   August 22, 2017       1  \n",
       "21409   August 22, 2017       1  \n",
       "21410   August 22, 2017       1  \n",
       "21411   August 22, 2017       1  \n",
       "21417   August 22, 2017       1  \n",
       "\n",
       "[44888 rows x 5 columns]"
      ]
     },
     "execution_count": 117,
     "metadata": {},
     "output_type": "execute_result"
    }
   ],
   "source": [
    "merge_df = pd.concat([fake_df, true_df], axis =0 )\n",
    "merge_df"
   ]
  },
  {
   "cell_type": "markdown",
   "id": "2795fe3c",
   "metadata": {
    "pycharm": {
     "name": "#%% md\n"
    }
   },
   "source": [
    "- New dataframe shuffled and reindexed."
   ]
  },
  {
   "cell_type": "code",
   "execution_count": 118,
   "id": "f0e06cab",
   "metadata": {
    "pycharm": {
     "name": "#%%\n"
    }
   },
   "outputs": [
    {
     "data": {
      "text/html": [
       "<div>\n",
       "<style scoped>\n",
       "    .dataframe tbody tr th:only-of-type {\n",
       "        vertical-align: middle;\n",
       "    }\n",
       "\n",
       "    .dataframe tbody tr th {\n",
       "        vertical-align: top;\n",
       "    }\n",
       "\n",
       "    .dataframe thead th {\n",
       "        text-align: right;\n",
       "    }\n",
       "</style>\n",
       "<table border=\"1\" class=\"dataframe\">\n",
       "  <thead>\n",
       "    <tr style=\"text-align: right;\">\n",
       "      <th></th>\n",
       "      <th>index</th>\n",
       "      <th>title</th>\n",
       "      <th>text</th>\n",
       "      <th>subject</th>\n",
       "      <th>date</th>\n",
       "      <th>label</th>\n",
       "    </tr>\n",
       "  </thead>\n",
       "  <tbody>\n",
       "    <tr>\n",
       "      <th>1</th>\n",
       "      <td>11990</td>\n",
       "      <td>BREAKING: Paul Ryan Makes A HUGE Announcement ...</td>\n",
       "      <td></td>\n",
       "      <td>politics</td>\n",
       "      <td>Jan 5, 2017</td>\n",
       "      <td>0</td>\n",
       "    </tr>\n",
       "    <tr>\n",
       "      <th>2</th>\n",
       "      <td>6023</td>\n",
       "      <td>Rights advocates slam Trump plans on Muslim im...</td>\n",
       "      <td>NEW YORK (Reuters) - Immigrant and refugee adv...</td>\n",
       "      <td>politicsNews</td>\n",
       "      <td>January 25, 2017</td>\n",
       "      <td>1</td>\n",
       "    </tr>\n",
       "    <tr>\n",
       "      <th>3</th>\n",
       "      <td>16171</td>\n",
       "      <td>WATCH: TSA’S PAT-DOWN At Dallas Airport Leaves...</td>\n",
       "      <td>TSA allows for a pat-down of a teenage passen...</td>\n",
       "      <td>Government News</td>\n",
       "      <td>Mar 29, 2017</td>\n",
       "      <td>0</td>\n",
       "    </tr>\n",
       "    <tr>\n",
       "      <th>4</th>\n",
       "      <td>18752</td>\n",
       "      <td>DON’T TAKE YOUR KIDS TO New Orleans To Learn A...</td>\n",
       "      <td>It s a sad day in America when we allow the le...</td>\n",
       "      <td>left-news</td>\n",
       "      <td>Apr 25, 2017</td>\n",
       "      <td>0</td>\n",
       "    </tr>\n",
       "    <tr>\n",
       "      <th>5</th>\n",
       "      <td>8938</td>\n",
       "      <td>The Hidden Root Of White Rage</td>\n",
       "      <td>Paul Krugman asks a simple question about why ...</td>\n",
       "      <td>News</td>\n",
       "      <td>January 6, 2016</td>\n",
       "      <td>0</td>\n",
       "    </tr>\n",
       "    <tr>\n",
       "      <th>...</th>\n",
       "      <td>...</td>\n",
       "      <td>...</td>\n",
       "      <td>...</td>\n",
       "      <td>...</td>\n",
       "      <td>...</td>\n",
       "      <td>...</td>\n",
       "    </tr>\n",
       "    <tr>\n",
       "      <th>44884</th>\n",
       "      <td>937</td>\n",
       "      <td>The Internet EVISCERATES Whiny Nikki Haley Af...</td>\n",
       "      <td>The Donald Trump Administration has to be the ...</td>\n",
       "      <td>News</td>\n",
       "      <td>July 4, 2017</td>\n",
       "      <td>0</td>\n",
       "    </tr>\n",
       "    <tr>\n",
       "      <th>44885</th>\n",
       "      <td>9685</td>\n",
       "      <td>SHERIFF CLARKE CALLS OUT NFL For Latest Move T...</td>\n",
       "      <td>Sheriff Clarke has it right! The NFL wasn t li...</td>\n",
       "      <td>politics</td>\n",
       "      <td>Oct 14, 2017</td>\n",
       "      <td>0</td>\n",
       "    </tr>\n",
       "    <tr>\n",
       "      <th>44886</th>\n",
       "      <td>997</td>\n",
       "      <td>Trump releases some JFK files, blocks others u...</td>\n",
       "      <td>WASHINGTON (Reuters) - U.S. President Donald T...</td>\n",
       "      <td>politicsNews</td>\n",
       "      <td>October 26, 2017</td>\n",
       "      <td>1</td>\n",
       "    </tr>\n",
       "    <tr>\n",
       "      <th>44887</th>\n",
       "      <td>4367</td>\n",
       "      <td>Russian PM says U.S. Syria strikes 'one step a...</td>\n",
       "      <td>MOSCOW (Reuters) - Russian Prime Minister Dmit...</td>\n",
       "      <td>politicsNews</td>\n",
       "      <td>April 7, 2017</td>\n",
       "      <td>1</td>\n",
       "    </tr>\n",
       "    <tr>\n",
       "      <th>44888</th>\n",
       "      <td>11470</td>\n",
       "      <td>U.N. Security Council imposes new sanctions on...</td>\n",
       "      <td>UNITED NATIONS/SEOUL (Reuters) - The U.N. Secu...</td>\n",
       "      <td>worldnews</td>\n",
       "      <td>December 22, 2017</td>\n",
       "      <td>1</td>\n",
       "    </tr>\n",
       "  </tbody>\n",
       "</table>\n",
       "<p>44888 rows × 6 columns</p>\n",
       "</div>"
      ],
      "text/plain": [
       "       index                                              title  \\\n",
       "1      11990  BREAKING: Paul Ryan Makes A HUGE Announcement ...   \n",
       "2       6023  Rights advocates slam Trump plans on Muslim im...   \n",
       "3      16171  WATCH: TSA’S PAT-DOWN At Dallas Airport Leaves...   \n",
       "4      18752  DON’T TAKE YOUR KIDS TO New Orleans To Learn A...   \n",
       "5       8938                      The Hidden Root Of White Rage   \n",
       "...      ...                                                ...   \n",
       "44884    937   The Internet EVISCERATES Whiny Nikki Haley Af...   \n",
       "44885   9685  SHERIFF CLARKE CALLS OUT NFL For Latest Move T...   \n",
       "44886    997  Trump releases some JFK files, blocks others u...   \n",
       "44887   4367  Russian PM says U.S. Syria strikes 'one step a...   \n",
       "44888  11470  U.N. Security Council imposes new sanctions on...   \n",
       "\n",
       "                                                    text          subject  \\\n",
       "1                                                                politics   \n",
       "2      NEW YORK (Reuters) - Immigrant and refugee adv...     politicsNews   \n",
       "3       TSA allows for a pat-down of a teenage passen...  Government News   \n",
       "4      It s a sad day in America when we allow the le...        left-news   \n",
       "5      Paul Krugman asks a simple question about why ...             News   \n",
       "...                                                  ...              ...   \n",
       "44884  The Donald Trump Administration has to be the ...             News   \n",
       "44885  Sheriff Clarke has it right! The NFL wasn t li...         politics   \n",
       "44886  WASHINGTON (Reuters) - U.S. President Donald T...     politicsNews   \n",
       "44887  MOSCOW (Reuters) - Russian Prime Minister Dmit...     politicsNews   \n",
       "44888  UNITED NATIONS/SEOUL (Reuters) - The U.N. Secu...        worldnews   \n",
       "\n",
       "                     date  label  \n",
       "1             Jan 5, 2017      0  \n",
       "2       January 25, 2017       1  \n",
       "3            Mar 29, 2017      0  \n",
       "4            Apr 25, 2017      0  \n",
       "5         January 6, 2016      0  \n",
       "...                   ...    ...  \n",
       "44884        July 4, 2017      0  \n",
       "44885        Oct 14, 2017      0  \n",
       "44886   October 26, 2017       1  \n",
       "44887      April 7, 2017       1  \n",
       "44888  December 22, 2017       1  \n",
       "\n",
       "[44888 rows x 6 columns]"
      ]
     },
     "execution_count": 118,
     "metadata": {},
     "output_type": "execute_result"
    }
   ],
   "source": [
    "news_df = merge_df.sample(frac = 1)\n",
    "news_df.reset_index(inplace = True)\n",
    "news_df.index+=1\n",
    "news_df"
   ]
  },
  {
   "cell_type": "markdown",
   "id": "21d3fb2a",
   "metadata": {
    "pycharm": {
     "name": "#%% md\n"
    }
   },
   "source": [
    "- Checked column names."
   ]
  },
  {
   "cell_type": "code",
   "execution_count": 119,
   "id": "67e13a89",
   "metadata": {
    "pycharm": {
     "name": "#%%\n"
    }
   },
   "outputs": [
    {
     "data": {
      "text/plain": [
       "Index(['index', 'title', 'text', 'subject', 'date', 'label'], dtype='object')"
      ]
     },
     "execution_count": 119,
     "metadata": {},
     "output_type": "execute_result"
    }
   ],
   "source": [
    "news_df.columns"
   ]
  },
  {
   "cell_type": "markdown",
   "id": "409f0854",
   "metadata": {
    "pycharm": {
     "name": "#%% md\n"
    }
   },
   "source": [
    "- Dropped unnecessary columns."
   ]
  },
  {
   "cell_type": "code",
   "execution_count": 120,
   "id": "3d14dd38",
   "metadata": {
    "pycharm": {
     "name": "#%%\n"
    }
   },
   "outputs": [
    {
     "data": {
      "text/html": [
       "<div>\n",
       "<style scoped>\n",
       "    .dataframe tbody tr th:only-of-type {\n",
       "        vertical-align: middle;\n",
       "    }\n",
       "\n",
       "    .dataframe tbody tr th {\n",
       "        vertical-align: top;\n",
       "    }\n",
       "\n",
       "    .dataframe thead th {\n",
       "        text-align: right;\n",
       "    }\n",
       "</style>\n",
       "<table border=\"1\" class=\"dataframe\">\n",
       "  <thead>\n",
       "    <tr style=\"text-align: right;\">\n",
       "      <th></th>\n",
       "      <th>index</th>\n",
       "      <th>text</th>\n",
       "      <th>label</th>\n",
       "    </tr>\n",
       "  </thead>\n",
       "  <tbody>\n",
       "    <tr>\n",
       "      <th>1</th>\n",
       "      <td>11990</td>\n",
       "      <td></td>\n",
       "      <td>0</td>\n",
       "    </tr>\n",
       "    <tr>\n",
       "      <th>2</th>\n",
       "      <td>6023</td>\n",
       "      <td>NEW YORK (Reuters) - Immigrant and refugee adv...</td>\n",
       "      <td>1</td>\n",
       "    </tr>\n",
       "    <tr>\n",
       "      <th>3</th>\n",
       "      <td>16171</td>\n",
       "      <td>TSA allows for a pat-down of a teenage passen...</td>\n",
       "      <td>0</td>\n",
       "    </tr>\n",
       "    <tr>\n",
       "      <th>4</th>\n",
       "      <td>18752</td>\n",
       "      <td>It s a sad day in America when we allow the le...</td>\n",
       "      <td>0</td>\n",
       "    </tr>\n",
       "    <tr>\n",
       "      <th>5</th>\n",
       "      <td>8938</td>\n",
       "      <td>Paul Krugman asks a simple question about why ...</td>\n",
       "      <td>0</td>\n",
       "    </tr>\n",
       "    <tr>\n",
       "      <th>...</th>\n",
       "      <td>...</td>\n",
       "      <td>...</td>\n",
       "      <td>...</td>\n",
       "    </tr>\n",
       "    <tr>\n",
       "      <th>44884</th>\n",
       "      <td>937</td>\n",
       "      <td>The Donald Trump Administration has to be the ...</td>\n",
       "      <td>0</td>\n",
       "    </tr>\n",
       "    <tr>\n",
       "      <th>44885</th>\n",
       "      <td>9685</td>\n",
       "      <td>Sheriff Clarke has it right! The NFL wasn t li...</td>\n",
       "      <td>0</td>\n",
       "    </tr>\n",
       "    <tr>\n",
       "      <th>44886</th>\n",
       "      <td>997</td>\n",
       "      <td>WASHINGTON (Reuters) - U.S. President Donald T...</td>\n",
       "      <td>1</td>\n",
       "    </tr>\n",
       "    <tr>\n",
       "      <th>44887</th>\n",
       "      <td>4367</td>\n",
       "      <td>MOSCOW (Reuters) - Russian Prime Minister Dmit...</td>\n",
       "      <td>1</td>\n",
       "    </tr>\n",
       "    <tr>\n",
       "      <th>44888</th>\n",
       "      <td>11470</td>\n",
       "      <td>UNITED NATIONS/SEOUL (Reuters) - The U.N. Secu...</td>\n",
       "      <td>1</td>\n",
       "    </tr>\n",
       "  </tbody>\n",
       "</table>\n",
       "<p>44888 rows × 3 columns</p>\n",
       "</div>"
      ],
      "text/plain": [
       "       index                                               text  label\n",
       "1      11990                                                         0\n",
       "2       6023  NEW YORK (Reuters) - Immigrant and refugee adv...      1\n",
       "3      16171   TSA allows for a pat-down of a teenage passen...      0\n",
       "4      18752  It s a sad day in America when we allow the le...      0\n",
       "5       8938  Paul Krugman asks a simple question about why ...      0\n",
       "...      ...                                                ...    ...\n",
       "44884    937  The Donald Trump Administration has to be the ...      0\n",
       "44885   9685  Sheriff Clarke has it right! The NFL wasn t li...      0\n",
       "44886    997  WASHINGTON (Reuters) - U.S. President Donald T...      1\n",
       "44887   4367  MOSCOW (Reuters) - Russian Prime Minister Dmit...      1\n",
       "44888  11470  UNITED NATIONS/SEOUL (Reuters) - The U.N. Secu...      1\n",
       "\n",
       "[44888 rows x 3 columns]"
      ]
     },
     "execution_count": 120,
     "metadata": {},
     "output_type": "execute_result"
    }
   ],
   "source": [
    "df = news_df.drop([\"title\", \"subject\",\"date\"], axis = 1)\n",
    "df"
   ]
  },
  {
   "cell_type": "markdown",
   "id": "5b6cdc08",
   "metadata": {
    "pycharm": {
     "name": "#%% md\n"
    }
   },
   "source": [
    "- Checked if there is null."
   ]
  },
  {
   "cell_type": "code",
   "execution_count": 121,
   "id": "450b5903",
   "metadata": {
    "pycharm": {
     "name": "#%%\n"
    }
   },
   "outputs": [
    {
     "data": {
      "text/plain": [
       "index    0\n",
       "text     0\n",
       "label    0\n",
       "dtype: int64"
      ]
     },
     "execution_count": 121,
     "metadata": {},
     "output_type": "execute_result"
    }
   ],
   "source": [
    "df.isnull().sum()"
   ]
  },
  {
   "cell_type": "code",
   "execution_count": 122,
   "id": "7c5a46e8",
   "metadata": {
    "pycharm": {
     "name": "#%%\n"
    }
   },
   "outputs": [
    {
     "data": {
      "text/plain": [
       "(44888, 3)"
      ]
     },
     "execution_count": 122,
     "metadata": {},
     "output_type": "execute_result"
    }
   ],
   "source": [
    "df.shape"
   ]
  },
  {
   "cell_type": "code",
   "execution_count": 123,
   "id": "f0cf1de5",
   "metadata": {
    "pycharm": {
     "name": "#%%\n"
    }
   },
   "outputs": [
    {
     "name": "stdout",
     "output_type": "stream",
     "text": [
      "<class 'pandas.core.frame.DataFrame'>\n",
      "RangeIndex: 44888 entries, 1 to 44888\n",
      "Data columns (total 3 columns):\n",
      " #   Column  Non-Null Count  Dtype \n",
      "---  ------  --------------  ----- \n",
      " 0   index   44888 non-null  int64 \n",
      " 1   text    44888 non-null  object\n",
      " 2   label   44888 non-null  int64 \n",
      "dtypes: int64(2), object(1)\n",
      "memory usage: 1.0+ MB\n"
     ]
    }
   ],
   "source": [
    "df.info()"
   ]
  },
  {
   "cell_type": "markdown",
   "id": "f6015655",
   "metadata": {
    "pycharm": {
     "name": "#%% md\n"
    }
   },
   "source": [
    "- Data cleaning function has been created and applied."
   ]
  },
  {
   "cell_type": "code",
   "execution_count": 124,
   "id": "5585901a",
   "metadata": {
    "pycharm": {
     "name": "#%%\n"
    }
   },
   "outputs": [],
   "source": [
    "def wordopt(text):\n",
    "    text = text.lower()\n",
    "    text = re.sub('\\[.*?\\]', '', text)\n",
    "    text = re.sub(\"\\\\W\",\" \",text) \n",
    "    text = re.sub('https?://\\S+|www\\.\\S+', '', text)\n",
    "    text = re.sub('<.*?>+', '', text)\n",
    "    text = re.sub('[%s]' % re.escape(string.punctuation), '', text)\n",
    "    text = re.sub('\\n', '', text)\n",
    "    text = re.sub('\\w*\\d\\w*', '', text)    \n",
    "    return text"
   ]
  },
  {
   "cell_type": "code",
   "execution_count": 125,
   "id": "7dd8ba60",
   "metadata": {
    "pycharm": {
     "name": "#%%\n"
    }
   },
   "outputs": [
    {
     "data": {
      "text/html": [
       "<div>\n",
       "<style scoped>\n",
       "    .dataframe tbody tr th:only-of-type {\n",
       "        vertical-align: middle;\n",
       "    }\n",
       "\n",
       "    .dataframe tbody tr th {\n",
       "        vertical-align: top;\n",
       "    }\n",
       "\n",
       "    .dataframe thead th {\n",
       "        text-align: right;\n",
       "    }\n",
       "</style>\n",
       "<table border=\"1\" class=\"dataframe\">\n",
       "  <thead>\n",
       "    <tr style=\"text-align: right;\">\n",
       "      <th></th>\n",
       "      <th>index</th>\n",
       "      <th>text</th>\n",
       "      <th>label</th>\n",
       "    </tr>\n",
       "  </thead>\n",
       "  <tbody>\n",
       "    <tr>\n",
       "      <th>1</th>\n",
       "      <td>11990</td>\n",
       "      <td></td>\n",
       "      <td>0</td>\n",
       "    </tr>\n",
       "    <tr>\n",
       "      <th>2</th>\n",
       "      <td>6023</td>\n",
       "      <td>new york  reuters    immigrant and refugee adv...</td>\n",
       "      <td>1</td>\n",
       "    </tr>\n",
       "    <tr>\n",
       "      <th>3</th>\n",
       "      <td>16171</td>\n",
       "      <td>tsa allows for a pat down of a teenage passen...</td>\n",
       "      <td>0</td>\n",
       "    </tr>\n",
       "    <tr>\n",
       "      <th>4</th>\n",
       "      <td>18752</td>\n",
       "      <td>it s a sad day in america when we allow the le...</td>\n",
       "      <td>0</td>\n",
       "    </tr>\n",
       "    <tr>\n",
       "      <th>5</th>\n",
       "      <td>8938</td>\n",
       "      <td>paul krugman asks a simple question about why ...</td>\n",
       "      <td>0</td>\n",
       "    </tr>\n",
       "    <tr>\n",
       "      <th>...</th>\n",
       "      <td>...</td>\n",
       "      <td>...</td>\n",
       "      <td>...</td>\n",
       "    </tr>\n",
       "    <tr>\n",
       "      <th>44884</th>\n",
       "      <td>937</td>\n",
       "      <td>the donald trump administration has to be the ...</td>\n",
       "      <td>0</td>\n",
       "    </tr>\n",
       "    <tr>\n",
       "      <th>44885</th>\n",
       "      <td>9685</td>\n",
       "      <td>sheriff clarke has it right  the nfl wasn t li...</td>\n",
       "      <td>0</td>\n",
       "    </tr>\n",
       "    <tr>\n",
       "      <th>44886</th>\n",
       "      <td>997</td>\n",
       "      <td>washington  reuters    u s  president donald t...</td>\n",
       "      <td>1</td>\n",
       "    </tr>\n",
       "    <tr>\n",
       "      <th>44887</th>\n",
       "      <td>4367</td>\n",
       "      <td>moscow  reuters    russian prime minister dmit...</td>\n",
       "      <td>1</td>\n",
       "    </tr>\n",
       "    <tr>\n",
       "      <th>44888</th>\n",
       "      <td>11470</td>\n",
       "      <td>united nations seoul  reuters    the u n  secu...</td>\n",
       "      <td>1</td>\n",
       "    </tr>\n",
       "  </tbody>\n",
       "</table>\n",
       "<p>44888 rows × 3 columns</p>\n",
       "</div>"
      ],
      "text/plain": [
       "       index                                               text  label\n",
       "1      11990                                                         0\n",
       "2       6023  new york  reuters    immigrant and refugee adv...      1\n",
       "3      16171   tsa allows for a pat down of a teenage passen...      0\n",
       "4      18752  it s a sad day in america when we allow the le...      0\n",
       "5       8938  paul krugman asks a simple question about why ...      0\n",
       "...      ...                                                ...    ...\n",
       "44884    937  the donald trump administration has to be the ...      0\n",
       "44885   9685  sheriff clarke has it right  the nfl wasn t li...      0\n",
       "44886    997  washington  reuters    u s  president donald t...      1\n",
       "44887   4367  moscow  reuters    russian prime minister dmit...      1\n",
       "44888  11470  united nations seoul  reuters    the u n  secu...      1\n",
       "\n",
       "[44888 rows x 3 columns]"
      ]
     },
     "execution_count": 125,
     "metadata": {},
     "output_type": "execute_result"
    }
   ],
   "source": [
    "df[\"text\"] = df[\"text\"].apply(wordopt)\n",
    "\n",
    "df"
   ]
  },
  {
   "cell_type": "markdown",
   "id": "d8463326",
   "metadata": {
    "pycharm": {
     "name": "#%% md\n"
    }
   },
   "source": [
    "- Test and train data seperated reproducible with %75-%25. Used stratify for homogeneous distribution of data."
   ]
  },
  {
   "cell_type": "code",
   "execution_count": 86,
   "id": "e2ee516e",
   "metadata": {
    "pycharm": {
     "name": "#%%\n"
    }
   },
   "outputs": [],
   "source": [
    "x = df[\"text\"]\n",
    "y = df[\"label\"]"
   ]
  },
  {
   "cell_type": "code",
   "execution_count": 130,
   "id": "d5d03c23",
   "metadata": {
    "pycharm": {
     "name": "#%%\n"
    }
   },
   "outputs": [
    {
     "data": {
      "text/plain": [
       "0    23476\n",
       "1    21412\n",
       "Name: label, dtype: int64"
      ]
     },
     "execution_count": 130,
     "metadata": {},
     "output_type": "execute_result"
    }
   ],
   "source": [
    "y.value_counts()"
   ]
  },
  {
   "cell_type": "code",
   "execution_count": 87,
   "id": "c824a38f",
   "metadata": {
    "pycharm": {
     "name": "#%%\n"
    }
   },
   "outputs": [],
   "source": [
    "from sklearn.model_selection import train_test_split\n",
    "\n",
    "x_train, x_test, y_train, y_test = train_test_split(x, y, test_size=0.25,random_state=1773,stratify=y)"
   ]
  },
  {
   "cell_type": "code",
   "execution_count": 88,
   "id": "93427d5d",
   "metadata": {
    "pycharm": {
     "name": "#%%\n"
    }
   },
   "outputs": [
    {
     "data": {
      "text/plain": [
       "(33666,)"
      ]
     },
     "execution_count": 88,
     "metadata": {},
     "output_type": "execute_result"
    }
   ],
   "source": [
    "x_train.shape"
   ]
  },
  {
   "cell_type": "code",
   "execution_count": 89,
   "id": "1fc8841e",
   "metadata": {
    "pycharm": {
     "name": "#%%\n"
    }
   },
   "outputs": [
    {
     "data": {
      "text/plain": [
       "(33666,)"
      ]
     },
     "execution_count": 89,
     "metadata": {},
     "output_type": "execute_result"
    }
   ],
   "source": [
    "y_train.shape"
   ]
  },
  {
   "cell_type": "code",
   "execution_count": 90,
   "id": "b610a34b",
   "metadata": {
    "pycharm": {
     "name": "#%%\n"
    }
   },
   "outputs": [
    {
     "data": {
      "text/plain": [
       "(11222,)"
      ]
     },
     "execution_count": 90,
     "metadata": {},
     "output_type": "execute_result"
    }
   ],
   "source": [
    "x_test.shape"
   ]
  },
  {
   "cell_type": "code",
   "execution_count": 91,
   "id": "9c17596d",
   "metadata": {
    "pycharm": {
     "name": "#%%\n"
    }
   },
   "outputs": [
    {
     "data": {
      "text/plain": [
       "(11222,)"
      ]
     },
     "execution_count": 91,
     "metadata": {},
     "output_type": "execute_result"
    }
   ],
   "source": [
    "y_test.shape"
   ]
  },
  {
   "cell_type": "markdown",
   "id": "a1b25d75",
   "metadata": {
    "pycharm": {
     "name": "#%% md\n"
    }
   },
   "source": [
    "## Feature Extraction"
   ]
  },
  {
   "cell_type": "markdown",
   "id": "fdf1cfbf",
   "metadata": {
    "pycharm": {
     "name": "#%% md\n"
    }
   },
   "source": [
    "Using Tf-Idf method. TF-IDF (Term Frequency-Inverse Document Frequency) is a statistical method used to determine the importance of a word in text documents. It works by calculating a score by multiplying the term frequency of a word in a document (TF) by its inverse document frequency (IDF) across all documents."
   ]
  },
  {
   "cell_type": "markdown",
   "id": "01f8b7cb",
   "metadata": {
    "pycharm": {
     "name": "#%% md\n"
    }
   },
   "source": [
    "- In this way, numerical data is obtained from the text, that is, a new feature is produced from the existing feature."
   ]
  },
  {
   "cell_type": "code",
   "execution_count": 126,
   "id": "9a43bcfd",
   "metadata": {
    "pycharm": {
     "name": "#%%\n"
    }
   },
   "outputs": [],
   "source": [
    "from sklearn.feature_extraction.text import TfidfVectorizer\n",
    "\n",
    "vectorization = TfidfVectorizer()\n",
    "x_train_feature_extract = vectorization.fit_transform(x_train)\n",
    "x_test_feature_extract = vectorization.transform(x_test)"
   ]
  },
  {
   "cell_type": "code",
   "execution_count": 133,
   "id": "d1288f10",
   "metadata": {
    "pycharm": {
     "name": "#%%\n"
    }
   },
   "outputs": [
    {
     "data": {
      "text/html": [
       "<div>\n",
       "<style scoped>\n",
       "    .dataframe tbody tr th:only-of-type {\n",
       "        vertical-align: middle;\n",
       "    }\n",
       "\n",
       "    .dataframe tbody tr th {\n",
       "        vertical-align: top;\n",
       "    }\n",
       "\n",
       "    .dataframe thead th {\n",
       "        text-align: right;\n",
       "    }\n",
       "</style>\n",
       "<table border=\"1\" class=\"dataframe\">\n",
       "  <thead>\n",
       "    <tr style=\"text-align: right;\">\n",
       "      <th></th>\n",
       "      <th>0</th>\n",
       "    </tr>\n",
       "  </thead>\n",
       "  <tbody>\n",
       "    <tr>\n",
       "      <th>0</th>\n",
       "      <td>(0, 57166)\\t0.02105224061158265\\n  (0, 10382...</td>\n",
       "    </tr>\n",
       "    <tr>\n",
       "      <th>1</th>\n",
       "      <td>(0, 58372)\\t0.035711623162124284\\n  (0, 7443...</td>\n",
       "    </tr>\n",
       "    <tr>\n",
       "      <th>2</th>\n",
       "      <td>(0, 12431)\\t0.025324550730060805\\n  (0, 7438...</td>\n",
       "    </tr>\n",
       "    <tr>\n",
       "      <th>3</th>\n",
       "      <td>(0, 4894)\\t0.0215539966222589\\n  (0, 62237)\\...</td>\n",
       "    </tr>\n",
       "    <tr>\n",
       "      <th>4</th>\n",
       "      <td>(0, 47364)\\t0.05865207966596597\\n  (0, 62587...</td>\n",
       "    </tr>\n",
       "  </tbody>\n",
       "</table>\n",
       "</div>"
      ],
      "text/plain": [
       "                                                   0\n",
       "0    (0, 57166)\\t0.02105224061158265\\n  (0, 10382...\n",
       "1    (0, 58372)\\t0.035711623162124284\\n  (0, 7443...\n",
       "2    (0, 12431)\\t0.025324550730060805\\n  (0, 7438...\n",
       "3    (0, 4894)\\t0.0215539966222589\\n  (0, 62237)\\...\n",
       "4    (0, 47364)\\t0.05865207966596597\\n  (0, 62587..."
      ]
     },
     "execution_count": 133,
     "metadata": {},
     "output_type": "execute_result"
    }
   ],
   "source": [
    "pd.DataFrame(x_train_feature_extract).head()"
   ]
  },
  {
   "cell_type": "code",
   "execution_count": 135,
   "id": "98477220",
   "metadata": {
    "pycharm": {
     "name": "#%%\n"
    }
   },
   "outputs": [
    {
     "data": {
      "text/plain": [
       "(33666, 1)"
      ]
     },
     "execution_count": 135,
     "metadata": {},
     "output_type": "execute_result"
    }
   ],
   "source": [
    "pd.DataFrame(x_train_feature_extract).shape"
   ]
  },
  {
   "cell_type": "markdown",
   "id": "9fd8279c",
   "metadata": {
    "pycharm": {
     "name": "#%% md\n"
    }
   },
   "source": [
    "## Model Training, Evaluation, and Validation"
   ]
  },
  {
   "cell_type": "markdown",
   "id": "39ecbbb1",
   "metadata": {
    "pycharm": {
     "name": "#%% md\n"
    }
   },
   "source": [
    "In this section, 3 different models are trained and performance metrics are examined. The models used are Logistic Regression, Decision Tree and Random Forest models. Training is conducted with each model and its performances are examined."
   ]
  },
  {
   "cell_type": "markdown",
   "id": "ab43d901",
   "metadata": {
    "pycharm": {
     "name": "#%% md\n"
    }
   },
   "source": [
    "### Logistic Regression"
   ]
  },
  {
   "cell_type": "code",
   "execution_count": 93,
   "id": "af929571",
   "metadata": {
    "pycharm": {
     "name": "#%%\n"
    }
   },
   "outputs": [
    {
     "data": {
      "text/plain": [
       "LogisticRegression(random_state=1773)"
      ]
     },
     "execution_count": 93,
     "metadata": {},
     "output_type": "execute_result"
    }
   ],
   "source": [
    "from sklearn.linear_model import LogisticRegression\n",
    "from sklearn.metrics import classification_report\n",
    "\n",
    "LogReg = LogisticRegression(random_state=1773)\n",
    "LogReg.fit(x_train_feature_extract,y_train)"
   ]
  },
  {
   "cell_type": "code",
   "execution_count": 94,
   "id": "126e32e4",
   "metadata": {
    "pycharm": {
     "name": "#%%\n"
    }
   },
   "outputs": [],
   "source": [
    "prediction_LogReg =LogReg.predict(x_test_feature_extract)"
   ]
  },
  {
   "cell_type": "code",
   "execution_count": 95,
   "id": "a880833c",
   "metadata": {
    "pycharm": {
     "name": "#%%\n"
    }
   },
   "outputs": [
    {
     "data": {
      "text/plain": [
       "0.9870789520584566"
      ]
     },
     "execution_count": 95,
     "metadata": {},
     "output_type": "execute_result"
    }
   ],
   "source": [
    "LogReg.score(x_test_feature_extract, y_test)"
   ]
  },
  {
   "cell_type": "code",
   "execution_count": 96,
   "id": "407f5509",
   "metadata": {
    "pycharm": {
     "name": "#%%\n"
    }
   },
   "outputs": [
    {
     "name": "stdout",
     "output_type": "stream",
     "text": [
      "              precision    recall  f1-score   support\n",
      "\n",
      "           0       0.99      0.98      0.99      5869\n",
      "           1       0.98      0.99      0.99      5353\n",
      "\n",
      "    accuracy                           0.99     11222\n",
      "   macro avg       0.99      0.99      0.99     11222\n",
      "weighted avg       0.99      0.99      0.99     11222\n",
      "\n"
     ]
    }
   ],
   "source": [
    "print(classification_report(y_test, prediction_LogReg))"
   ]
  },
  {
   "cell_type": "markdown",
   "id": "46c10332",
   "metadata": {
    "pycharm": {
     "name": "#%% md\n"
    }
   },
   "source": [
    "### Decision Tree Classification"
   ]
  },
  {
   "cell_type": "code",
   "execution_count": 97,
   "id": "dfc30899",
   "metadata": {
    "pycharm": {
     "name": "#%%\n"
    }
   },
   "outputs": [
    {
     "data": {
      "text/plain": [
       "DecisionTreeClassifier(random_state=1773)"
      ]
     },
     "execution_count": 97,
     "metadata": {},
     "output_type": "execute_result"
    }
   ],
   "source": [
    "from sklearn.tree import DecisionTreeClassifier\n",
    "\n",
    "DecTree = DecisionTreeClassifier(random_state=1773)\n",
    "DecTree.fit(x_train_feature_extract, y_train)"
   ]
  },
  {
   "cell_type": "code",
   "execution_count": 98,
   "id": "bd283435",
   "metadata": {
    "pycharm": {
     "name": "#%%\n"
    }
   },
   "outputs": [],
   "source": [
    "prediction_DecTree = DecTree.predict(x_test_feature_extract)"
   ]
  },
  {
   "cell_type": "code",
   "execution_count": 99,
   "id": "629ea33a",
   "metadata": {
    "pycharm": {
     "name": "#%%\n"
    }
   },
   "outputs": [
    {
     "data": {
      "text/plain": [
       "0.9942969167706291"
      ]
     },
     "execution_count": 99,
     "metadata": {},
     "output_type": "execute_result"
    }
   ],
   "source": [
    "DecTree.score(x_test_feature_extract, y_test)"
   ]
  },
  {
   "cell_type": "code",
   "execution_count": 100,
   "id": "b303af3b",
   "metadata": {
    "pycharm": {
     "name": "#%%\n"
    }
   },
   "outputs": [
    {
     "name": "stdout",
     "output_type": "stream",
     "text": [
      "              precision    recall  f1-score   support\n",
      "\n",
      "           0       0.99      0.99      0.99      5869\n",
      "           1       0.99      0.99      0.99      5353\n",
      "\n",
      "    accuracy                           0.99     11222\n",
      "   macro avg       0.99      0.99      0.99     11222\n",
      "weighted avg       0.99      0.99      0.99     11222\n",
      "\n"
     ]
    }
   ],
   "source": [
    "print(classification_report(y_test, prediction_DecTree))"
   ]
  },
  {
   "cell_type": "markdown",
   "id": "f13877ba",
   "metadata": {
    "pycharm": {
     "name": "#%% md\n"
    }
   },
   "source": [
    "### Random Forest Classifier"
   ]
  },
  {
   "cell_type": "code",
   "execution_count": 101,
   "id": "fc2253d4",
   "metadata": {
    "pycharm": {
     "name": "#%%\n"
    }
   },
   "outputs": [
    {
     "data": {
      "text/plain": [
       "RandomForestClassifier(random_state=1773)"
      ]
     },
     "execution_count": 101,
     "metadata": {},
     "output_type": "execute_result"
    }
   ],
   "source": [
    "from sklearn.ensemble import RandomForestClassifier\n",
    "\n",
    "RandForest = RandomForestClassifier(random_state=1773)\n",
    "RandForest.fit(x_train_feature_extract, y_train)"
   ]
  },
  {
   "cell_type": "code",
   "execution_count": 102,
   "id": "59b8386a",
   "metadata": {
    "pycharm": {
     "name": "#%%\n"
    }
   },
   "outputs": [],
   "source": [
    "prediction_RandForest = RandForest.predict(x_test_feature_extract)"
   ]
  },
  {
   "cell_type": "code",
   "execution_count": 103,
   "id": "c3198e6b",
   "metadata": {
    "pycharm": {
     "name": "#%%\n"
    }
   },
   "outputs": [
    {
     "data": {
      "text/plain": [
       "0.9878809481375869"
      ]
     },
     "execution_count": 103,
     "metadata": {},
     "output_type": "execute_result"
    }
   ],
   "source": [
    "RandForest.score(x_test_feature_extract, y_test)"
   ]
  },
  {
   "cell_type": "code",
   "execution_count": 104,
   "id": "41bbf512",
   "metadata": {
    "pycharm": {
     "name": "#%%\n"
    }
   },
   "outputs": [
    {
     "name": "stdout",
     "output_type": "stream",
     "text": [
      "              precision    recall  f1-score   support\n",
      "\n",
      "           0       0.99      0.99      0.99      5869\n",
      "           1       0.99      0.99      0.99      5353\n",
      "\n",
      "    accuracy                           0.99     11222\n",
      "   macro avg       0.99      0.99      0.99     11222\n",
      "weighted avg       0.99      0.99      0.99     11222\n",
      "\n"
     ]
    }
   ],
   "source": [
    "print(classification_report(y_test, prediction_RandForest))"
   ]
  },
  {
   "cell_type": "markdown",
   "id": "200320e8",
   "metadata": {
    "pycharm": {
     "name": "#%% md\n"
    }
   },
   "source": [
    "### Conclusion"
   ]
  },
  {
   "cell_type": "markdown",
   "id": "6b4a76ae",
   "metadata": {
    "pycharm": {
     "name": "#%% md\n"
    }
   },
   "source": [
    "Based on these results, all three models demonstrated high precision, recall, and F1-score, indicating their effectiveness in making accurate predictions. The accuracy of each model was also quite high, reaching 99%. These promising outcomes highlight the successful utilization of feature extraction and the potential of these models in handling text data for classification tasks"
   ]
  },
  {
   "cell_type": "markdown",
   "id": "cc527aa2",
   "metadata": {
    "pycharm": {
     "name": "#%% md\n"
    }
   },
   "source": [
    "## Deployment and Integration"
   ]
  },
  {
   "cell_type": "markdown",
   "id": "04af172a",
   "metadata": {
    "pycharm": {
     "name": "#%% md\n"
    }
   },
   "source": [
    "We decided to deploy these models on a website and developed a simple website that runs locally using Python's Flask library. On this website, users can enter a news text, which is then sent to the trained models. The predictions from these models are displayed on the website, indicating whether the news is real or fake. To make requests to these models, we used Python's pickle library to serialize the models' outputs and imported them into the website for utilization."
   ]
  },
  {
   "cell_type": "code",
   "execution_count": 105,
   "id": "ab5f993d",
   "metadata": {
    "pycharm": {
     "name": "#%%\n"
    }
   },
   "outputs": [],
   "source": [
    "import pickle\n",
    "\n",
    "pickle.dump(LogReg, open(\"FakeNewsSite/LogReg.pkl\", \"wb\"))\n",
    "pickle.dump(DecTree, open(\"FakeNewsSite/DecTree.pkl\", \"wb\"))\n",
    "pickle.dump(RandForest, open(\"FakeNewsSite/RandForest.pkl\", \"wb\"))"
   ]
  },
  {
   "cell_type": "code",
   "execution_count": 107,
   "id": "58c2c092",
   "metadata": {
    "pycharm": {
     "name": "#%%\n"
    }
   },
   "outputs": [],
   "source": [
    "pickle.dump(vectorization, open(\"FakeNewsSite/vectorizer.pkl\", \"wb\"))"
   ]
  }
 ],
 "metadata": {
  "kernelspec": {
   "display_name": "Python 3 (ipykernel)",
   "language": "python",
   "name": "python3"
  },
  "language_info": {
   "codemirror_mode": {
    "name": "ipython",
    "version": 3
   },
   "file_extension": ".py",
   "mimetype": "text/x-python",
   "name": "python",
   "nbconvert_exporter": "python",
   "pygments_lexer": "ipython3",
   "version": "3.9.12"
  }
 },
 "nbformat": 4,
 "nbformat_minor": 5
}
